{
  "nbformat": 4,
  "nbformat_minor": 0,
  "metadata": {
    "colab": {
      "provenance": []
    },
    "kernelspec": {
      "name": "python3",
      "display_name": "Python 3"
    },
    "language_info": {
      "name": "python"
    }
  },
  "cells": [
    {
      "cell_type": "markdown",
      "source": [
        "Lab 2"
      ],
      "metadata": {
        "id": "AqZwYPG7tIW7"
      }
    },
    {
      "cell_type": "markdown",
      "source": [],
      "metadata": {
        "id": "D4o9_TqwtDWG"
      }
    },
    {
      "cell_type": "markdown",
      "source": [
        "\n",
        "\n",
        "*   Sabura Khanam\n",
        "*   Department of Information Technology\n",
        "*   KSU\n",
        "\n",
        "\n"
      ],
      "metadata": {
        "id": "3h7CJvInspNa"
      }
    },
    {
      "cell_type": "code",
      "source": [
        "print(\"This is running!\")"
      ],
      "metadata": {
        "colab": {
          "base_uri": "https://localhost:8080/"
        },
        "id": "R7pvfmWxtU7v",
        "outputId": "bf73dec6-95cd-4920-8a5b-255dfb4e54b5"
      },
      "execution_count": 26,
      "outputs": [
        {
          "output_type": "stream",
          "name": "stdout",
          "text": [
            "This is running!\n"
          ]
        }
      ]
    },
    {
      "cell_type": "code",
      "source": [
        "k = 1000\n",
        "rand_str = 'YourName ' * k #replace YourName with your first and last names"
      ],
      "metadata": {
        "id": "x650G6S0t-lT"
      },
      "execution_count": 27,
      "outputs": []
    },
    {
      "cell_type": "code",
      "source": [
        "k = 10000\n",
        "rand_str = 'YourName ' * k # replace YourName with your first and last names"
      ],
      "metadata": {
        "id": "I8mrQweOvCLH"
      },
      "execution_count": 28,
      "outputs": []
    },
    {
      "cell_type": "code",
      "source": [
        "k = 100000\n",
        "rand_str = 'YourName ' * k"
      ],
      "metadata": {
        "id": "KkK0DIFUvkg3"
      },
      "execution_count": 29,
      "outputs": []
    },
    {
      "cell_type": "code",
      "source": [
        "k = 1000000\n",
        "rand_str = 'Yourname ' * k"
      ],
      "metadata": {
        "id": "yvY-tpTGv1kg"
      },
      "execution_count": 30,
      "outputs": []
    },
    {
      "cell_type": "code",
      "source": [
        "k = 10000000\n",
        "rand_str = 'YourName ' * k"
      ],
      "metadata": {
        "id": "k9oWv34mwCFI"
      },
      "execution_count": 31,
      "outputs": []
    },
    {
      "cell_type": "code",
      "source": [
        "#k = 100000000000\n",
        "#rand_str = 'YourName ' * k\n",
        "# I have commented these line, because with these lines the session is being crashed."
      ],
      "metadata": {
        "id": "5qRnives4NmR"
      },
      "execution_count": 32,
      "outputs": []
    },
    {
      "cell_type": "markdown",
      "source": [
        "**Question No. 5**"
      ],
      "metadata": {
        "id": "jDd4n-ibfpBB"
      }
    },
    {
      "cell_type": "code",
      "source": [
        "import pandas as pd"
      ],
      "metadata": {
        "id": "-g96dvMLV7LK"
      },
      "execution_count": 33,
      "outputs": []
    },
    {
      "cell_type": "code",
      "source": [
        "from sklearn.model_selection import cross_val_predict\n",
        "from sklearn.metrics import confusion_matrix"
      ],
      "metadata": {
        "id": "NhStZqtLXkL8"
      },
      "execution_count": 34,
      "outputs": []
    },
    {
      "cell_type": "code",
      "source": [
        "Actual = [0,0,0,0,0,0,0,0,1,1]\n",
        "Predicted = [0,0,0,0,0,0,1,0,0,1] # when threshold is 0.5\n",
        "confu = confusion_matrix(Actual,Predicted)\n",
        "confu"
      ],
      "metadata": {
        "colab": {
          "base_uri": "https://localhost:8080/"
        },
        "id": "pCI6lHfwbV1B",
        "outputId": "2333e1fc-4a59-4fe0-958b-a4f0f1d01359"
      },
      "execution_count": 35,
      "outputs": [
        {
          "output_type": "execute_result",
          "data": {
            "text/plain": [
              "array([[7, 1],\n",
              "       [1, 1]])"
            ]
          },
          "metadata": {},
          "execution_count": 35
        }
      ]
    },
    {
      "cell_type": "code",
      "source": [
        "from sklearn.metrics import precision_score, recall_score, accuracy_score, f1_score\n",
        "\n",
        "accuracy = accuracy_score(Actual,Predicted)\n",
        "accuracy"
      ],
      "metadata": {
        "colab": {
          "base_uri": "https://localhost:8080/"
        },
        "id": "d_SCNzhPbytN",
        "outputId": "6b8c1a63-f158-4cb1-82c6-f864fab05c5a"
      },
      "execution_count": 36,
      "outputs": [
        {
          "output_type": "execute_result",
          "data": {
            "text/plain": [
              "0.8"
            ]
          },
          "metadata": {},
          "execution_count": 36
        }
      ]
    },
    {
      "cell_type": "code",
      "source": [
        "precision = precision_score(Actual,Predicted)\n",
        "precision"
      ],
      "metadata": {
        "colab": {
          "base_uri": "https://localhost:8080/"
        },
        "id": "SnJy8sYIcnZZ",
        "outputId": "f5d29057-199a-45f0-a401-764f16d53fcf"
      },
      "execution_count": 37,
      "outputs": [
        {
          "output_type": "execute_result",
          "data": {
            "text/plain": [
              "0.5"
            ]
          },
          "metadata": {},
          "execution_count": 37
        }
      ]
    },
    {
      "cell_type": "code",
      "source": [
        "recall = recall_score(Actual,Predicted)\n",
        "recall"
      ],
      "metadata": {
        "colab": {
          "base_uri": "https://localhost:8080/"
        },
        "id": "jmjEM1Mgcyop",
        "outputId": "4db44f96-10a4-433d-87cf-467f3080b092"
      },
      "execution_count": 38,
      "outputs": [
        {
          "output_type": "execute_result",
          "data": {
            "text/plain": [
              "0.5"
            ]
          },
          "metadata": {},
          "execution_count": 38
        }
      ]
    },
    {
      "cell_type": "code",
      "source": [
        "f1 = f1_score(Actual, Predicted)\n",
        "f1"
      ],
      "metadata": {
        "colab": {
          "base_uri": "https://localhost:8080/"
        },
        "id": "DYfSNQxoc9iw",
        "outputId": "356e4027-8fed-466f-e367-a092c54c76b4"
      },
      "execution_count": 39,
      "outputs": [
        {
          "output_type": "execute_result",
          "data": {
            "text/plain": [
              "0.5"
            ]
          },
          "metadata": {},
          "execution_count": 39
        }
      ]
    },
    {
      "cell_type": "code",
      "source": [
        "Actual = [0,0,0,0,0,0,0,0,1,1]\n",
        "Predicted = [0,0,0,0,1,1,1,0,1,1] # When threshold 0.4\n",
        "confu = confusion_matrix(Actual,Predicted)\n",
        "confu"
      ],
      "metadata": {
        "colab": {
          "base_uri": "https://localhost:8080/"
        },
        "id": "5E_iRK1SdIae",
        "outputId": "a1d53a08-0903-4a66-b059-0096da06923e"
      },
      "execution_count": 40,
      "outputs": [
        {
          "output_type": "execute_result",
          "data": {
            "text/plain": [
              "array([[5, 3],\n",
              "       [0, 2]])"
            ]
          },
          "metadata": {},
          "execution_count": 40
        }
      ]
    },
    {
      "cell_type": "code",
      "source": [
        "# prompt:\n",
        "accuracy = accuracy_score(Actual,Predicted)\n",
        "accuracy"
      ],
      "metadata": {
        "colab": {
          "base_uri": "https://localhost:8080/"
        },
        "id": "p_-XFsvFdpd5",
        "outputId": "6b873b44-11a1-4288-d976-cd70ad20ccf7"
      },
      "execution_count": 41,
      "outputs": [
        {
          "output_type": "execute_result",
          "data": {
            "text/plain": [
              "0.7"
            ]
          },
          "metadata": {},
          "execution_count": 41
        }
      ]
    },
    {
      "cell_type": "code",
      "source": [
        "# prompt:\n",
        "precision = precision_score(Actual,Predicted)\n",
        "precision"
      ],
      "metadata": {
        "colab": {
          "base_uri": "https://localhost:8080/"
        },
        "id": "oF1jU7FBd8i2",
        "outputId": "696bdc95-321b-4193-fd53-e0791409e2f1"
      },
      "execution_count": 42,
      "outputs": [
        {
          "output_type": "execute_result",
          "data": {
            "text/plain": [
              "0.4"
            ]
          },
          "metadata": {},
          "execution_count": 42
        }
      ]
    },
    {
      "cell_type": "code",
      "source": [
        "# prompt:\n",
        "recall = recall_score(Actual,Predicted)\n",
        "recall"
      ],
      "metadata": {
        "colab": {
          "base_uri": "https://localhost:8080/"
        },
        "id": "71HAy9Q2eX-L",
        "outputId": "a391e068-de9d-417e-9a04-4d6b87ff24fc"
      },
      "execution_count": 43,
      "outputs": [
        {
          "output_type": "execute_result",
          "data": {
            "text/plain": [
              "1.0"
            ]
          },
          "metadata": {},
          "execution_count": 43
        }
      ]
    },
    {
      "cell_type": "code",
      "source": [
        "# prompt:\n",
        "f1 = f1_score(Actual, Predicted)\n",
        "f1"
      ],
      "metadata": {
        "colab": {
          "base_uri": "https://localhost:8080/"
        },
        "id": "_gbzxuu6ec5x",
        "outputId": "cae7263b-74ba-4ec3-fc27-dc75962bd060"
      },
      "execution_count": 44,
      "outputs": [
        {
          "output_type": "execute_result",
          "data": {
            "text/plain": [
              "0.5714285714285715"
            ]
          },
          "metadata": {},
          "execution_count": 44
        }
      ]
    },
    {
      "cell_type": "code",
      "source": [
        "# prompt:\n",
        "Actual = [0,0,0,0,0,0,0,0,1,1]\n",
        "Predicted = [0,1,0,0,1,1,1,0,1,1] # When threshold 0.3\n",
        "confu = confusion_matrix(Actual,Predicted)\n",
        "confu"
      ],
      "metadata": {
        "colab": {
          "base_uri": "https://localhost:8080/"
        },
        "id": "xjKL2VPneviq",
        "outputId": "e643c79a-ab11-4fbc-8ebe-c70f90b96511"
      },
      "execution_count": 45,
      "outputs": [
        {
          "output_type": "execute_result",
          "data": {
            "text/plain": [
              "array([[4, 4],\n",
              "       [0, 2]])"
            ]
          },
          "metadata": {},
          "execution_count": 45
        }
      ]
    },
    {
      "cell_type": "code",
      "source": [
        "# prompt:\n",
        "accuracy = accuracy_score(Actual,Predicted)\n",
        "accuracy"
      ],
      "metadata": {
        "colab": {
          "base_uri": "https://localhost:8080/"
        },
        "id": "lHnUdXPoe9s6",
        "outputId": "27315dae-93cd-416e-ac10-f792b31a185c"
      },
      "execution_count": 46,
      "outputs": [
        {
          "output_type": "execute_result",
          "data": {
            "text/plain": [
              "0.6"
            ]
          },
          "metadata": {},
          "execution_count": 46
        }
      ]
    },
    {
      "cell_type": "code",
      "source": [
        "# prompt:\n",
        "precision = precision_score(Actual,Predicted)\n",
        "precision"
      ],
      "metadata": {
        "colab": {
          "base_uri": "https://localhost:8080/"
        },
        "id": "RBAbkJzMfD-I",
        "outputId": "e3bdf663-a57b-40b7-9db3-5ec1e298fae7"
      },
      "execution_count": 47,
      "outputs": [
        {
          "output_type": "execute_result",
          "data": {
            "text/plain": [
              "0.3333333333333333"
            ]
          },
          "metadata": {},
          "execution_count": 47
        }
      ]
    },
    {
      "cell_type": "code",
      "source": [
        "# prompt:\n",
        "recall = recall_score(Actual,Predicted)\n",
        "recall"
      ],
      "metadata": {
        "colab": {
          "base_uri": "https://localhost:8080/"
        },
        "id": "DKZxQn4hfOHL",
        "outputId": "5453fd86-5e35-488f-a9a3-1c341ab50067"
      },
      "execution_count": 48,
      "outputs": [
        {
          "output_type": "execute_result",
          "data": {
            "text/plain": [
              "1.0"
            ]
          },
          "metadata": {},
          "execution_count": 48
        }
      ]
    },
    {
      "cell_type": "code",
      "source": [
        "# prompt:\n",
        "f1 = f1_score(Actual, Predicted)\n",
        "f1"
      ],
      "metadata": {
        "colab": {
          "base_uri": "https://localhost:8080/"
        },
        "id": "FVmmYOWFfOQ6",
        "outputId": "0b2ce37c-6922-4b3c-bb08-4e52c94524ca"
      },
      "execution_count": 49,
      "outputs": [
        {
          "output_type": "execute_result",
          "data": {
            "text/plain": [
              "0.5"
            ]
          },
          "metadata": {},
          "execution_count": 49
        }
      ]
    },
    {
      "cell_type": "code",
      "source": [],
      "metadata": {
        "id": "VWvdu0dxfOY0"
      },
      "execution_count": 49,
      "outputs": []
    }
  ]
}