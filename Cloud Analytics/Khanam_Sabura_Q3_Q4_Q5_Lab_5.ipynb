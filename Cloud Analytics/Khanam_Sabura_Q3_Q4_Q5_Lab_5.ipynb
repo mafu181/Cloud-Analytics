{
  "cells": [
    {
      "cell_type": "code",
      "source": [
        "!pip install tensorflow"
      ],
      "metadata": {
        "colab": {
          "base_uri": "https://localhost:8080/"
        },
        "id": "ouQHcRiVPr9r",
        "outputId": "b946cfbc-718e-431e-8c90-ee936668f48a"
      },
      "execution_count": 18,
      "outputs": [
        {
          "output_type": "stream",
          "name": "stdout",
          "text": [
            "Requirement already satisfied: tensorflow in /usr/local/lib/python3.10/dist-packages (2.15.0)\n",
            "Requirement already satisfied: absl-py>=1.0.0 in /usr/local/lib/python3.10/dist-packages (from tensorflow) (1.4.0)\n",
            "Requirement already satisfied: astunparse>=1.6.0 in /usr/local/lib/python3.10/dist-packages (from tensorflow) (1.6.3)\n",
            "Requirement already satisfied: flatbuffers>=23.5.26 in /usr/local/lib/python3.10/dist-packages (from tensorflow) (24.3.7)\n",
            "Requirement already satisfied: gast!=0.5.0,!=0.5.1,!=0.5.2,>=0.2.1 in /usr/local/lib/python3.10/dist-packages (from tensorflow) (0.5.4)\n",
            "Requirement already satisfied: google-pasta>=0.1.1 in /usr/local/lib/python3.10/dist-packages (from tensorflow) (0.2.0)\n",
            "Requirement already satisfied: h5py>=2.9.0 in /usr/local/lib/python3.10/dist-packages (from tensorflow) (3.9.0)\n",
            "Requirement already satisfied: libclang>=13.0.0 in /usr/local/lib/python3.10/dist-packages (from tensorflow) (18.1.1)\n",
            "Requirement already satisfied: ml-dtypes~=0.2.0 in /usr/local/lib/python3.10/dist-packages (from tensorflow) (0.2.0)\n",
            "Requirement already satisfied: numpy<2.0.0,>=1.23.5 in /usr/local/lib/python3.10/dist-packages (from tensorflow) (1.25.2)\n",
            "Requirement already satisfied: opt-einsum>=2.3.2 in /usr/local/lib/python3.10/dist-packages (from tensorflow) (3.3.0)\n",
            "Requirement already satisfied: packaging in /usr/local/lib/python3.10/dist-packages (from tensorflow) (24.0)\n",
            "Requirement already satisfied: protobuf!=4.21.0,!=4.21.1,!=4.21.2,!=4.21.3,!=4.21.4,!=4.21.5,<5.0.0dev,>=3.20.3 in /usr/local/lib/python3.10/dist-packages (from tensorflow) (3.20.3)\n",
            "Requirement already satisfied: setuptools in /usr/local/lib/python3.10/dist-packages (from tensorflow) (67.7.2)\n",
            "Requirement already satisfied: six>=1.12.0 in /usr/local/lib/python3.10/dist-packages (from tensorflow) (1.16.0)\n",
            "Requirement already satisfied: termcolor>=1.1.0 in /usr/local/lib/python3.10/dist-packages (from tensorflow) (2.4.0)\n",
            "Requirement already satisfied: typing-extensions>=3.6.6 in /usr/local/lib/python3.10/dist-packages (from tensorflow) (4.10.0)\n",
            "Requirement already satisfied: wrapt<1.15,>=1.11.0 in /usr/local/lib/python3.10/dist-packages (from tensorflow) (1.14.1)\n",
            "Requirement already satisfied: tensorflow-io-gcs-filesystem>=0.23.1 in /usr/local/lib/python3.10/dist-packages (from tensorflow) (0.36.0)\n",
            "Requirement already satisfied: grpcio<2.0,>=1.24.3 in /usr/local/lib/python3.10/dist-packages (from tensorflow) (1.62.1)\n",
            "Requirement already satisfied: tensorboard<2.16,>=2.15 in /usr/local/lib/python3.10/dist-packages (from tensorflow) (2.15.2)\n",
            "Requirement already satisfied: tensorflow-estimator<2.16,>=2.15.0 in /usr/local/lib/python3.10/dist-packages (from tensorflow) (2.15.0)\n",
            "Requirement already satisfied: keras<2.16,>=2.15.0 in /usr/local/lib/python3.10/dist-packages (from tensorflow) (2.15.0)\n",
            "Requirement already satisfied: wheel<1.0,>=0.23.0 in /usr/local/lib/python3.10/dist-packages (from astunparse>=1.6.0->tensorflow) (0.43.0)\n",
            "Requirement already satisfied: google-auth<3,>=1.6.3 in /usr/local/lib/python3.10/dist-packages (from tensorboard<2.16,>=2.15->tensorflow) (2.27.0)\n",
            "Requirement already satisfied: google-auth-oauthlib<2,>=0.5 in /usr/local/lib/python3.10/dist-packages (from tensorboard<2.16,>=2.15->tensorflow) (1.2.0)\n",
            "Requirement already satisfied: markdown>=2.6.8 in /usr/local/lib/python3.10/dist-packages (from tensorboard<2.16,>=2.15->tensorflow) (3.6)\n",
            "Requirement already satisfied: requests<3,>=2.21.0 in /usr/local/lib/python3.10/dist-packages (from tensorboard<2.16,>=2.15->tensorflow) (2.31.0)\n",
            "Requirement already satisfied: tensorboard-data-server<0.8.0,>=0.7.0 in /usr/local/lib/python3.10/dist-packages (from tensorboard<2.16,>=2.15->tensorflow) (0.7.2)\n",
            "Requirement already satisfied: werkzeug>=1.0.1 in /usr/local/lib/python3.10/dist-packages (from tensorboard<2.16,>=2.15->tensorflow) (3.0.1)\n",
            "Requirement already satisfied: cachetools<6.0,>=2.0.0 in /usr/local/lib/python3.10/dist-packages (from google-auth<3,>=1.6.3->tensorboard<2.16,>=2.15->tensorflow) (5.3.3)\n",
            "Requirement already satisfied: pyasn1-modules>=0.2.1 in /usr/local/lib/python3.10/dist-packages (from google-auth<3,>=1.6.3->tensorboard<2.16,>=2.15->tensorflow) (0.3.0)\n",
            "Requirement already satisfied: rsa<5,>=3.1.4 in /usr/local/lib/python3.10/dist-packages (from google-auth<3,>=1.6.3->tensorboard<2.16,>=2.15->tensorflow) (4.9)\n",
            "Requirement already satisfied: requests-oauthlib>=0.7.0 in /usr/local/lib/python3.10/dist-packages (from google-auth-oauthlib<2,>=0.5->tensorboard<2.16,>=2.15->tensorflow) (1.4.0)\n",
            "Requirement already satisfied: charset-normalizer<4,>=2 in /usr/local/lib/python3.10/dist-packages (from requests<3,>=2.21.0->tensorboard<2.16,>=2.15->tensorflow) (3.3.2)\n",
            "Requirement already satisfied: idna<4,>=2.5 in /usr/local/lib/python3.10/dist-packages (from requests<3,>=2.21.0->tensorboard<2.16,>=2.15->tensorflow) (3.6)\n",
            "Requirement already satisfied: urllib3<3,>=1.21.1 in /usr/local/lib/python3.10/dist-packages (from requests<3,>=2.21.0->tensorboard<2.16,>=2.15->tensorflow) (2.0.7)\n",
            "Requirement already satisfied: certifi>=2017.4.17 in /usr/local/lib/python3.10/dist-packages (from requests<3,>=2.21.0->tensorboard<2.16,>=2.15->tensorflow) (2024.2.2)\n",
            "Requirement already satisfied: MarkupSafe>=2.1.1 in /usr/local/lib/python3.10/dist-packages (from werkzeug>=1.0.1->tensorboard<2.16,>=2.15->tensorflow) (2.1.5)\n",
            "Requirement already satisfied: pyasn1<0.6.0,>=0.4.6 in /usr/local/lib/python3.10/dist-packages (from pyasn1-modules>=0.2.1->google-auth<3,>=1.6.3->tensorboard<2.16,>=2.15->tensorflow) (0.5.1)\n",
            "Requirement already satisfied: oauthlib>=3.0.0 in /usr/local/lib/python3.10/dist-packages (from requests-oauthlib>=0.7.0->google-auth-oauthlib<2,>=0.5->tensorboard<2.16,>=2.15->tensorflow) (3.2.2)\n"
          ]
        }
      ]
    },
    {
      "cell_type": "code",
      "execution_count": 19,
      "metadata": {
        "colab": {
          "base_uri": "https://localhost:8080/"
        },
        "id": "dzLKpmZICaWN",
        "outputId": "8f36f787-6397-43a5-e279-4dc491d120f0"
      },
      "outputs": [
        {
          "output_type": "stream",
          "name": "stdout",
          "text": [
            "2.15.0\n"
          ]
        }
      ],
      "source": [
        "import tensorflow as tf\n",
        "import numpy as np\n",
        "import matplotlib.pyplot as plt\n",
        "\n",
        "# print Tensorflow version\n",
        "print(tf.__version__)"
      ]
    },
    {
      "cell_type": "code",
      "source": [
        "from tensorflow.keras import datasets\n",
        "from tensorflow.keras import layers\n",
        "from tensorflow.keras import models\n"
      ],
      "metadata": {
        "id": "_V5mMINWMhzV"
      },
      "execution_count": 20,
      "outputs": []
    },
    {
      "cell_type": "markdown",
      "metadata": {
        "id": "yR0EdgrLCaWR"
      },
      "source": [
        "## Import Cats Vs Dogs"
      ]
    },
    {
      "cell_type": "code",
      "execution_count": 21,
      "metadata": {
        "id": "BkYQZbsyodoe",
        "colab": {
          "base_uri": "https://localhost:8080/"
        },
        "outputId": "4c55143a-0f27-4671-b7fb-64f2e778eed8"
      },
      "outputs": [
        {
          "output_type": "stream",
          "name": "stdout",
          "text": [
            "Found 2000 files belonging to 2 classes.\n",
            "Found 1000 files belonging to 2 classes.\n"
          ]
        }
      ],
      "source": [
        "import os\n",
        "\n",
        "_URL = 'https://storage.googleapis.com/mledu-datasets/cats_and_dogs_filtered.zip'\n",
        "path_to_zip = tf.keras.utils.get_file('cats_and_dogs.zip', origin=_URL, extract=True)\n",
        "PATH = os.path.join(os.path.dirname(path_to_zip), 'cats_and_dogs_filtered')\n",
        "\n",
        "train_dir = os.path.join(PATH, 'train')\n",
        "test_dir = os.path.join(PATH, 'validation')\n",
        "\n",
        "IMG_SIZE = (128, 128)\n",
        "\n",
        "# training data\n",
        "train_dataset = tf.keras.utils.image_dataset_from_directory(train_dir,\n",
        "                                                            shuffle=True,\n",
        "                                                            batch_size=None,\n",
        "                                                            image_size=IMG_SIZE)\n",
        "train_images, train_labels = [], []\n",
        "for train_data in train_dataset:\n",
        "  train_images.append(train_data[0])\n",
        "  train_labels.append(train_data[1])\n",
        "train_images = np.asarray(train_images).astype(np.uint8)\n",
        "train_labels = np.asarray(train_labels)\n",
        "\n",
        "# test data\n",
        "test_dataset = tf.keras.utils.image_dataset_from_directory(test_dir,\n",
        "                                                           shuffle=True,\n",
        "                                                           batch_size=None,\n",
        "                                                           image_size=IMG_SIZE)\n",
        "test_images, test_labels = [], []\n",
        "for test_data in test_dataset:\n",
        "  test_images.append(test_data[0])\n",
        "  test_labels.append(test_data[1])\n",
        "test_images = np.asarray(test_images).astype(np.uint8)\n",
        "test_labels = np.asarray(test_labels)\n",
        "\n",
        "class_names = ['Cat', 'Dog']"
      ]
    },
    {
      "cell_type": "markdown",
      "source": [
        "# Normalization to [0, 1]"
      ],
      "metadata": {
        "id": "Uo_RnMHt4mhY"
      }
    },
    {
      "cell_type": "code",
      "source": [
        "train_images = train_images / 255\n",
        "test_images = test_images / 255"
      ],
      "metadata": {
        "id": "wk332IKT4jkq"
      },
      "execution_count": 22,
      "outputs": []
    },
    {
      "cell_type": "markdown",
      "source": [
        "***Question 3***"
      ],
      "metadata": {
        "id": "ej8BTotquT6M"
      }
    },
    {
      "cell_type": "code",
      "source": [
        "def creat_model(input_shape, learning_rate):\n",
        "  model = tf.keras.Sequential([\n",
        "      tf.keras.layers.Flatten(input_shape=input_shape),\n",
        "      tf.keras.layers.Dense(256, activation = 'relu'),\n",
        "      tf.keras.layers.Dense(128, activation = 'relu'),\n",
        "      tf.keras.layers.Dense(2, activation = 'softmax')\n",
        "\n",
        "  ])"
      ],
      "metadata": {
        "id": "klGk99dWFj_a"
      },
      "execution_count": 23,
      "outputs": []
    },
    {
      "cell_type": "code",
      "source": [
        "def train_model(model, train_images, train_labels, epochs, validation_split):\n",
        "  eval = model.fit(train_images, train_labels, epochs = epochs, validation_split = validation_split, verbose = 2)\n",
        "  return eval"
      ],
      "metadata": {
        "id": "lFDkViPLG7Y8"
      },
      "execution_count": 24,
      "outputs": []
    },
    {
      "cell_type": "code",
      "source": [
        "import numpy as np\n",
        "from tensorflow.keras.optimizers import Adam\n",
        "from sklearn.model_selection import train_test_split\n"
      ],
      "metadata": {
        "id": "1BDDNsIeB1O9"
      },
      "execution_count": 25,
      "outputs": []
    },
    {
      "cell_type": "code",
      "source": [
        "model_300 = models.Sequential([\n",
        "    layers.Flatten(input_shape = (128, 128, 3)),\n",
        "    layers.Dense(256, activation = 'relu'),\n",
        "    layers.Dense(128, activation = 'relu'),\n",
        "    layers.Dense(2, activation = 'softmax')\n",
        "])\n",
        "\n",
        "opt_300 = Adam(learning_rate = 300)\n",
        "model_300.compile(optimizer = opt_300, loss = 'sparse_categorical_crossentropy', metrics = ['accuracy'])\n",
        "model_300_valid = model_300.fit(train_images, train_labels, validation_split = 0.15,epochs = 50)\n",
        "\n"
      ],
      "metadata": {
        "colab": {
          "base_uri": "https://localhost:8080/"
        },
        "id": "KRf9aXRSv0Za",
        "outputId": "6ab3ab4a-e12c-4aac-97b0-f36f0c55f43e"
      },
      "execution_count": 27,
      "outputs": [
        {
          "output_type": "stream",
          "name": "stdout",
          "text": [
            "Epoch 1/50\n",
            "54/54 [==============================] - 2s 21ms/step - loss: 161485233848320.0000 - accuracy: 0.4947 - val_loss: 3023.4578 - val_accuracy: 0.4867\n",
            "Epoch 2/50\n",
            "54/54 [==============================] - 1s 16ms/step - loss: 866.3412 - accuracy: 0.5012 - val_loss: 47.3857 - val_accuracy: 0.4867\n",
            "Epoch 3/50\n",
            "54/54 [==============================] - 1s 10ms/step - loss: 50.2572 - accuracy: 0.4906 - val_loss: 9.6496 - val_accuracy: 0.5133\n",
            "Epoch 4/50\n",
            "54/54 [==============================] - 1s 10ms/step - loss: 64.2705 - accuracy: 0.4941 - val_loss: 13.4630 - val_accuracy: 0.4867\n",
            "Epoch 5/50\n",
            "54/54 [==============================] - 1s 9ms/step - loss: 35.8585 - accuracy: 0.5024 - val_loss: 6.5464 - val_accuracy: 0.4867\n",
            "Epoch 6/50\n",
            "54/54 [==============================] - 1s 9ms/step - loss: 36.2317 - accuracy: 0.4941 - val_loss: 11.0594 - val_accuracy: 0.5133\n",
            "Epoch 7/50\n",
            "54/54 [==============================] - 1s 9ms/step - loss: 43.6886 - accuracy: 0.5118 - val_loss: 61.5082 - val_accuracy: 0.5133\n",
            "Epoch 8/50\n",
            "54/54 [==============================] - 1s 10ms/step - loss: 46.9221 - accuracy: 0.4847 - val_loss: 117.0248 - val_accuracy: 0.5133\n",
            "Epoch 9/50\n",
            "54/54 [==============================] - 0s 9ms/step - loss: 30.9344 - accuracy: 0.5129 - val_loss: 29.9702 - val_accuracy: 0.5133\n",
            "Epoch 10/50\n",
            "54/54 [==============================] - 1s 10ms/step - loss: 33.9259 - accuracy: 0.5053 - val_loss: 75.5223 - val_accuracy: 0.4867\n",
            "Epoch 11/50\n",
            "54/54 [==============================] - 1s 9ms/step - loss: 31.8874 - accuracy: 0.5335 - val_loss: 24.1157 - val_accuracy: 0.5133\n",
            "Epoch 12/50\n",
            "54/54 [==============================] - 1s 10ms/step - loss: 34.6997 - accuracy: 0.4865 - val_loss: 1.7059 - val_accuracy: 0.4867\n",
            "Epoch 13/50\n",
            "54/54 [==============================] - 0s 9ms/step - loss: 21.3606 - accuracy: 0.5012 - val_loss: 4.0194 - val_accuracy: 0.4867\n",
            "Epoch 14/50\n",
            "54/54 [==============================] - 0s 9ms/step - loss: 16.7160 - accuracy: 0.5041 - val_loss: 33.0119 - val_accuracy: 0.5133\n",
            "Epoch 15/50\n",
            "54/54 [==============================] - 1s 9ms/step - loss: 32.4996 - accuracy: 0.5082 - val_loss: 3.4976 - val_accuracy: 0.4867\n",
            "Epoch 16/50\n",
            "54/54 [==============================] - 1s 9ms/step - loss: 26.6880 - accuracy: 0.4853 - val_loss: 0.6936 - val_accuracy: 0.5133\n",
            "Epoch 17/50\n",
            "54/54 [==============================] - 1s 10ms/step - loss: 59.6298 - accuracy: 0.5006 - val_loss: 63.9398 - val_accuracy: 0.5133\n",
            "Epoch 18/50\n",
            "54/54 [==============================] - 1s 10ms/step - loss: 32.5325 - accuracy: 0.4918 - val_loss: 89.4183 - val_accuracy: 0.4867\n",
            "Epoch 19/50\n",
            "54/54 [==============================] - 1s 10ms/step - loss: 56.0812 - accuracy: 0.4747 - val_loss: 30.2864 - val_accuracy: 0.5133\n",
            "Epoch 20/50\n",
            "54/54 [==============================] - 0s 9ms/step - loss: 31.9992 - accuracy: 0.5235 - val_loss: 85.9307 - val_accuracy: 0.4867\n",
            "Epoch 21/50\n",
            "54/54 [==============================] - 1s 9ms/step - loss: 68.0888 - accuracy: 0.4994 - val_loss: 47.1778 - val_accuracy: 0.5133\n",
            "Epoch 22/50\n",
            "54/54 [==============================] - 1s 13ms/step - loss: 28.8105 - accuracy: 0.4900 - val_loss: 52.8104 - val_accuracy: 0.5133\n",
            "Epoch 23/50\n",
            "54/54 [==============================] - 1s 12ms/step - loss: 48.4935 - accuracy: 0.4941 - val_loss: 46.4507 - val_accuracy: 0.5133\n",
            "Epoch 24/50\n",
            "54/54 [==============================] - 1s 13ms/step - loss: 31.5866 - accuracy: 0.4965 - val_loss: 72.4636 - val_accuracy: 0.4867\n",
            "Epoch 25/50\n",
            "54/54 [==============================] - 1s 11ms/step - loss: 56.5581 - accuracy: 0.5024 - val_loss: 34.4732 - val_accuracy: 0.4867\n",
            "Epoch 26/50\n",
            "54/54 [==============================] - 1s 9ms/step - loss: 31.1091 - accuracy: 0.4882 - val_loss: 17.8726 - val_accuracy: 0.5133\n",
            "Epoch 27/50\n",
            "54/54 [==============================] - 1s 9ms/step - loss: 36.9739 - accuracy: 0.4894 - val_loss: 46.3912 - val_accuracy: 0.5133\n",
            "Epoch 28/50\n",
            "54/54 [==============================] - 0s 9ms/step - loss: 46.4933 - accuracy: 0.5035 - val_loss: 8.3937 - val_accuracy: 0.5133\n",
            "Epoch 29/50\n",
            "54/54 [==============================] - 1s 10ms/step - loss: 54.8650 - accuracy: 0.4918 - val_loss: 51.6048 - val_accuracy: 0.5133\n",
            "Epoch 30/50\n",
            "54/54 [==============================] - 1s 9ms/step - loss: 46.0784 - accuracy: 0.5000 - val_loss: 24.6786 - val_accuracy: 0.5133\n",
            "Epoch 31/50\n",
            "54/54 [==============================] - 1s 10ms/step - loss: 21.4460 - accuracy: 0.5071 - val_loss: 49.7975 - val_accuracy: 0.5133\n",
            "Epoch 32/50\n",
            "54/54 [==============================] - 0s 9ms/step - loss: 32.1240 - accuracy: 0.4924 - val_loss: 95.8346 - val_accuracy: 0.4867\n",
            "Epoch 33/50\n",
            "54/54 [==============================] - 0s 9ms/step - loss: 55.1756 - accuracy: 0.4894 - val_loss: 17.5295 - val_accuracy: 0.4867\n",
            "Epoch 34/50\n",
            "54/54 [==============================] - 1s 9ms/step - loss: 40.5659 - accuracy: 0.5065 - val_loss: 14.8982 - val_accuracy: 0.5133\n",
            "Epoch 35/50\n",
            "54/54 [==============================] - 1s 9ms/step - loss: 37.3360 - accuracy: 0.5041 - val_loss: 45.5238 - val_accuracy: 0.4867\n",
            "Epoch 36/50\n",
            "54/54 [==============================] - 1s 10ms/step - loss: 38.2489 - accuracy: 0.5312 - val_loss: 11.5788 - val_accuracy: 0.5133\n",
            "Epoch 37/50\n",
            "54/54 [==============================] - 1s 10ms/step - loss: 42.5976 - accuracy: 0.5218 - val_loss: 67.2519 - val_accuracy: 0.5133\n",
            "Epoch 38/50\n",
            "54/54 [==============================] - 1s 9ms/step - loss: 39.8418 - accuracy: 0.4988 - val_loss: 37.4103 - val_accuracy: 0.4867\n",
            "Epoch 39/50\n",
            "54/54 [==============================] - 0s 9ms/step - loss: 45.7227 - accuracy: 0.5041 - val_loss: 41.7776 - val_accuracy: 0.4867\n",
            "Epoch 40/50\n",
            "54/54 [==============================] - 1s 10ms/step - loss: 28.8397 - accuracy: 0.4959 - val_loss: 18.8707 - val_accuracy: 0.5133\n",
            "Epoch 41/50\n",
            "54/54 [==============================] - 0s 9ms/step - loss: 27.3098 - accuracy: 0.4906 - val_loss: 79.9917 - val_accuracy: 0.5133\n",
            "Epoch 42/50\n",
            "54/54 [==============================] - 0s 9ms/step - loss: 22.7939 - accuracy: 0.4818 - val_loss: 48.8491 - val_accuracy: 0.4867\n",
            "Epoch 43/50\n",
            "54/54 [==============================] - 0s 9ms/step - loss: 62.1939 - accuracy: 0.4935 - val_loss: 17.7111 - val_accuracy: 0.4867\n",
            "Epoch 44/50\n",
            "54/54 [==============================] - 1s 10ms/step - loss: 27.1711 - accuracy: 0.4918 - val_loss: 1.6333 - val_accuracy: 0.5133\n",
            "Epoch 45/50\n",
            "54/54 [==============================] - 1s 13ms/step - loss: 36.0319 - accuracy: 0.4918 - val_loss: 46.2298 - val_accuracy: 0.5133\n",
            "Epoch 46/50\n",
            "54/54 [==============================] - 1s 12ms/step - loss: 39.5546 - accuracy: 0.5065 - val_loss: 23.0439 - val_accuracy: 0.4867\n",
            "Epoch 47/50\n",
            "54/54 [==============================] - 1s 13ms/step - loss: 33.8019 - accuracy: 0.5129 - val_loss: 22.7506 - val_accuracy: 0.5133\n",
            "Epoch 48/50\n",
            "54/54 [==============================] - 1s 10ms/step - loss: 24.5249 - accuracy: 0.4959 - val_loss: 73.0977 - val_accuracy: 0.5133\n",
            "Epoch 49/50\n",
            "54/54 [==============================] - 1s 9ms/step - loss: 42.1702 - accuracy: 0.4871 - val_loss: 14.2679 - val_accuracy: 0.5133\n",
            "Epoch 50/50\n",
            "54/54 [==============================] - 1s 12ms/step - loss: 47.1545 - accuracy: 0.4729 - val_loss: 1.0700 - val_accuracy: 0.4867\n"
          ]
        }
      ]
    },
    {
      "cell_type": "markdown",
      "source": [
        "For learning rate 300, in the first epoch, it suppossed to be \" loss is the maximum and accuracy is the minimum. Loss gradually decrease and accuracy gradually increase from the first epoch to 50th epoch\". But, here they have not maintained the rules that need to be. Some times loss decrease then again increases and accuracy increases and again decreases."
      ],
      "metadata": {
        "id": "Zf4A2t0Qqup8"
      }
    },
    {
      "cell_type": "code",
      "source": [
        "model_0 = models.Sequential([\n",
        "    layers.Flatten (input_shape = (128, 128, 3)),\n",
        "    layers.Dense(256, activation = 'relu'),\n",
        "    layers.Dense(128, activation = 'relu'),\n",
        "    layers.Dense(2, activation = 'softmax')\n",
        "])\n",
        "\n",
        "opt_0 = Adam(learning_rate = 0)\n",
        "model_0.compile(optimizer = opt_0, loss = 'sparse_categorical_crossentropy', metrics = ['accuracy'])\n",
        "model_0_valid = model_0.fit(train_images, train_labels, validation_split = 0.15, epochs = 50)"
      ],
      "metadata": {
        "colab": {
          "base_uri": "https://localhost:8080/"
        },
        "id": "M95zN4boi6vu",
        "outputId": "3d861243-950f-4408-9603-a8868ec98243"
      },
      "execution_count": 28,
      "outputs": [
        {
          "output_type": "stream",
          "name": "stdout",
          "text": [
            "Epoch 1/50\n",
            "54/54 [==============================] - 2s 15ms/step - loss: 0.7374 - accuracy: 0.5100 - val_loss: 0.7456 - val_accuracy: 0.4967\n",
            "Epoch 2/50\n",
            "54/54 [==============================] - 1s 10ms/step - loss: 0.7374 - accuracy: 0.5100 - val_loss: 0.7456 - val_accuracy: 0.4967\n",
            "Epoch 3/50\n",
            "54/54 [==============================] - 1s 10ms/step - loss: 0.7374 - accuracy: 0.5100 - val_loss: 0.7456 - val_accuracy: 0.4967\n",
            "Epoch 4/50\n",
            "54/54 [==============================] - 1s 10ms/step - loss: 0.7374 - accuracy: 0.5100 - val_loss: 0.7456 - val_accuracy: 0.4967\n",
            "Epoch 5/50\n",
            "54/54 [==============================] - 1s 9ms/step - loss: 0.7374 - accuracy: 0.5100 - val_loss: 0.7456 - val_accuracy: 0.4967\n",
            "Epoch 6/50\n",
            "54/54 [==============================] - 1s 10ms/step - loss: 0.7374 - accuracy: 0.5100 - val_loss: 0.7456 - val_accuracy: 0.4967\n",
            "Epoch 7/50\n",
            "54/54 [==============================] - 1s 9ms/step - loss: 0.7374 - accuracy: 0.5100 - val_loss: 0.7456 - val_accuracy: 0.4967\n",
            "Epoch 8/50\n",
            "54/54 [==============================] - 1s 9ms/step - loss: 0.7374 - accuracy: 0.5100 - val_loss: 0.7456 - val_accuracy: 0.4967\n",
            "Epoch 9/50\n",
            "54/54 [==============================] - 1s 9ms/step - loss: 0.7374 - accuracy: 0.5100 - val_loss: 0.7456 - val_accuracy: 0.4967\n",
            "Epoch 10/50\n",
            "54/54 [==============================] - 1s 9ms/step - loss: 0.7374 - accuracy: 0.5100 - val_loss: 0.7456 - val_accuracy: 0.4967\n",
            "Epoch 11/50\n",
            "54/54 [==============================] - 1s 9ms/step - loss: 0.7374 - accuracy: 0.5100 - val_loss: 0.7456 - val_accuracy: 0.4967\n",
            "Epoch 12/50\n",
            "54/54 [==============================] - 1s 10ms/step - loss: 0.7374 - accuracy: 0.5100 - val_loss: 0.7456 - val_accuracy: 0.4967\n",
            "Epoch 13/50\n",
            "54/54 [==============================] - 1s 11ms/step - loss: 0.7374 - accuracy: 0.5100 - val_loss: 0.7456 - val_accuracy: 0.4967\n",
            "Epoch 14/50\n",
            "54/54 [==============================] - 1s 12ms/step - loss: 0.7374 - accuracy: 0.5100 - val_loss: 0.7456 - val_accuracy: 0.4967\n",
            "Epoch 15/50\n",
            "54/54 [==============================] - 1s 12ms/step - loss: 0.7374 - accuracy: 0.5100 - val_loss: 0.7456 - val_accuracy: 0.4967\n",
            "Epoch 16/50\n",
            "54/54 [==============================] - 1s 12ms/step - loss: 0.7374 - accuracy: 0.5100 - val_loss: 0.7456 - val_accuracy: 0.4967\n",
            "Epoch 17/50\n",
            "54/54 [==============================] - 1s 9ms/step - loss: 0.7374 - accuracy: 0.5100 - val_loss: 0.7456 - val_accuracy: 0.4967\n",
            "Epoch 18/50\n",
            "54/54 [==============================] - 0s 9ms/step - loss: 0.7374 - accuracy: 0.5100 - val_loss: 0.7456 - val_accuracy: 0.4967\n",
            "Epoch 19/50\n",
            "54/54 [==============================] - 1s 10ms/step - loss: 0.7374 - accuracy: 0.5100 - val_loss: 0.7456 - val_accuracy: 0.4967\n",
            "Epoch 20/50\n",
            "54/54 [==============================] - 1s 9ms/step - loss: 0.7374 - accuracy: 0.5100 - val_loss: 0.7456 - val_accuracy: 0.4967\n",
            "Epoch 21/50\n",
            "54/54 [==============================] - 1s 9ms/step - loss: 0.7374 - accuracy: 0.5100 - val_loss: 0.7456 - val_accuracy: 0.4967\n",
            "Epoch 22/50\n",
            "54/54 [==============================] - 1s 10ms/step - loss: 0.7374 - accuracy: 0.5100 - val_loss: 0.7456 - val_accuracy: 0.4967\n",
            "Epoch 23/50\n",
            "54/54 [==============================] - 1s 10ms/step - loss: 0.7374 - accuracy: 0.5100 - val_loss: 0.7456 - val_accuracy: 0.4967\n",
            "Epoch 24/50\n",
            "54/54 [==============================] - 1s 10ms/step - loss: 0.7374 - accuracy: 0.5100 - val_loss: 0.7456 - val_accuracy: 0.4967\n",
            "Epoch 25/50\n",
            "54/54 [==============================] - 1s 10ms/step - loss: 0.7374 - accuracy: 0.5100 - val_loss: 0.7456 - val_accuracy: 0.4967\n",
            "Epoch 26/50\n",
            "54/54 [==============================] - 1s 9ms/step - loss: 0.7374 - accuracy: 0.5100 - val_loss: 0.7456 - val_accuracy: 0.4967\n",
            "Epoch 27/50\n",
            "54/54 [==============================] - 1s 9ms/step - loss: 0.7374 - accuracy: 0.5100 - val_loss: 0.7456 - val_accuracy: 0.4967\n",
            "Epoch 28/50\n",
            "54/54 [==============================] - 1s 9ms/step - loss: 0.7374 - accuracy: 0.5100 - val_loss: 0.7456 - val_accuracy: 0.4967\n",
            "Epoch 29/50\n",
            "54/54 [==============================] - 1s 9ms/step - loss: 0.7374 - accuracy: 0.5100 - val_loss: 0.7456 - val_accuracy: 0.4967\n",
            "Epoch 30/50\n",
            "54/54 [==============================] - 1s 10ms/step - loss: 0.7374 - accuracy: 0.5100 - val_loss: 0.7456 - val_accuracy: 0.4967\n",
            "Epoch 31/50\n",
            "54/54 [==============================] - 0s 9ms/step - loss: 0.7374 - accuracy: 0.5100 - val_loss: 0.7456 - val_accuracy: 0.4967\n",
            "Epoch 32/50\n",
            "54/54 [==============================] - 1s 9ms/step - loss: 0.7374 - accuracy: 0.5100 - val_loss: 0.7456 - val_accuracy: 0.4967\n",
            "Epoch 33/50\n",
            "54/54 [==============================] - 1s 9ms/step - loss: 0.7374 - accuracy: 0.5100 - val_loss: 0.7456 - val_accuracy: 0.4967\n",
            "Epoch 34/50\n",
            "54/54 [==============================] - 0s 9ms/step - loss: 0.7374 - accuracy: 0.5100 - val_loss: 0.7456 - val_accuracy: 0.4967\n",
            "Epoch 35/50\n",
            "54/54 [==============================] - 1s 9ms/step - loss: 0.7374 - accuracy: 0.5100 - val_loss: 0.7456 - val_accuracy: 0.4967\n",
            "Epoch 36/50\n",
            "54/54 [==============================] - 1s 11ms/step - loss: 0.7374 - accuracy: 0.5100 - val_loss: 0.7456 - val_accuracy: 0.4967\n",
            "Epoch 37/50\n",
            "54/54 [==============================] - 1s 14ms/step - loss: 0.7374 - accuracy: 0.5100 - val_loss: 0.7456 - val_accuracy: 0.4967\n",
            "Epoch 38/50\n",
            "54/54 [==============================] - 1s 15ms/step - loss: 0.7374 - accuracy: 0.5100 - val_loss: 0.7456 - val_accuracy: 0.4967\n",
            "Epoch 39/50\n",
            "54/54 [==============================] - 1s 10ms/step - loss: 0.7374 - accuracy: 0.5100 - val_loss: 0.7456 - val_accuracy: 0.4967\n",
            "Epoch 40/50\n",
            "54/54 [==============================] - 1s 9ms/step - loss: 0.7374 - accuracy: 0.5100 - val_loss: 0.7456 - val_accuracy: 0.4967\n",
            "Epoch 41/50\n",
            "54/54 [==============================] - 1s 9ms/step - loss: 0.7374 - accuracy: 0.5100 - val_loss: 0.7456 - val_accuracy: 0.4967\n",
            "Epoch 42/50\n",
            "54/54 [==============================] - 1s 9ms/step - loss: 0.7374 - accuracy: 0.5100 - val_loss: 0.7456 - val_accuracy: 0.4967\n",
            "Epoch 43/50\n",
            "54/54 [==============================] - 0s 9ms/step - loss: 0.7374 - accuracy: 0.5100 - val_loss: 0.7456 - val_accuracy: 0.4967\n",
            "Epoch 44/50\n",
            "54/54 [==============================] - 1s 10ms/step - loss: 0.7374 - accuracy: 0.5100 - val_loss: 0.7456 - val_accuracy: 0.4967\n",
            "Epoch 45/50\n",
            "54/54 [==============================] - 1s 10ms/step - loss: 0.7374 - accuracy: 0.5100 - val_loss: 0.7456 - val_accuracy: 0.4967\n",
            "Epoch 46/50\n",
            "54/54 [==============================] - 1s 10ms/step - loss: 0.7374 - accuracy: 0.5100 - val_loss: 0.7456 - val_accuracy: 0.4967\n",
            "Epoch 47/50\n",
            "54/54 [==============================] - 1s 10ms/step - loss: 0.7374 - accuracy: 0.5100 - val_loss: 0.7456 - val_accuracy: 0.4967\n",
            "Epoch 48/50\n",
            "54/54 [==============================] - 1s 9ms/step - loss: 0.7374 - accuracy: 0.5100 - val_loss: 0.7456 - val_accuracy: 0.4967\n",
            "Epoch 49/50\n",
            "54/54 [==============================] - 1s 10ms/step - loss: 0.7374 - accuracy: 0.5100 - val_loss: 0.7456 - val_accuracy: 0.4967\n",
            "Epoch 50/50\n",
            "54/54 [==============================] - 1s 9ms/step - loss: 0.7374 - accuracy: 0.5100 - val_loss: 0.7456 - val_accuracy: 0.4967\n"
          ]
        }
      ]
    },
    {
      "cell_type": "markdown",
      "source": [
        "For learning rate 0, loss and accuracy are the same from epoch 1 to epoch 50."
      ],
      "metadata": {
        "id": "hyJGNmKdtLLU"
      }
    },
    {
      "cell_type": "code",
      "source": [
        "model_00001 = models.Sequential([\n",
        "    layers.Flatten(input_shape = (128, 128, 3)),\n",
        "    layers.Dense(256, activation = 'relu'),\n",
        "    layers.Dense(128, activation = 'relu'),\n",
        "    layers.Dense(2, activation = 'softmax')\n",
        "\n",
        "])\n",
        "\n",
        "opt_00001 = Adam(learning_rate = 0.00001)\n",
        "model_00001.compile(optimizer = opt_00001, loss = 'sparse_categorical_crossentropy', metrics = ['accuracy']),\n",
        "model_00001_valid = model_00001.fit(train_images, train_labels, validation_split = 0.15, epochs = 50)"
      ],
      "metadata": {
        "colab": {
          "base_uri": "https://localhost:8080/"
        },
        "id": "c981p6N7mWwr",
        "outputId": "7453cf95-1c2f-4ce0-99de-3abad369410b"
      },
      "execution_count": 29,
      "outputs": [
        {
          "output_type": "stream",
          "name": "stdout",
          "text": [
            "Epoch 1/50\n",
            "54/54 [==============================] - 2s 16ms/step - loss: 0.7247 - accuracy: 0.5400 - val_loss: 0.6930 - val_accuracy: 0.5633\n",
            "Epoch 2/50\n",
            "54/54 [==============================] - 1s 10ms/step - loss: 0.6774 - accuracy: 0.5812 - val_loss: 0.6711 - val_accuracy: 0.5667\n",
            "Epoch 3/50\n",
            "54/54 [==============================] - 1s 10ms/step - loss: 0.6613 - accuracy: 0.5971 - val_loss: 0.6654 - val_accuracy: 0.6033\n",
            "Epoch 4/50\n",
            "54/54 [==============================] - 1s 10ms/step - loss: 0.6513 - accuracy: 0.6035 - val_loss: 0.6664 - val_accuracy: 0.5533\n",
            "Epoch 5/50\n",
            "54/54 [==============================] - 1s 10ms/step - loss: 0.6301 - accuracy: 0.6435 - val_loss: 0.6717 - val_accuracy: 0.5700\n",
            "Epoch 6/50\n",
            "54/54 [==============================] - 0s 9ms/step - loss: 0.6145 - accuracy: 0.6688 - val_loss: 0.6508 - val_accuracy: 0.5933\n",
            "Epoch 7/50\n",
            "54/54 [==============================] - 1s 10ms/step - loss: 0.6031 - accuracy: 0.6735 - val_loss: 0.6670 - val_accuracy: 0.5933\n",
            "Epoch 8/50\n",
            "54/54 [==============================] - 1s 9ms/step - loss: 0.5836 - accuracy: 0.7006 - val_loss: 0.6782 - val_accuracy: 0.5800\n",
            "Epoch 9/50\n",
            "54/54 [==============================] - 1s 11ms/step - loss: 0.5920 - accuracy: 0.6835 - val_loss: 0.7428 - val_accuracy: 0.5667\n",
            "Epoch 10/50\n",
            "54/54 [==============================] - 1s 12ms/step - loss: 0.6050 - accuracy: 0.6665 - val_loss: 0.6504 - val_accuracy: 0.6133\n",
            "Epoch 11/50\n",
            "54/54 [==============================] - 1s 13ms/step - loss: 0.5562 - accuracy: 0.7282 - val_loss: 0.6894 - val_accuracy: 0.5700\n",
            "Epoch 12/50\n",
            "54/54 [==============================] - 1s 11ms/step - loss: 0.5586 - accuracy: 0.7194 - val_loss: 0.7346 - val_accuracy: 0.5533\n",
            "Epoch 13/50\n",
            "54/54 [==============================] - 1s 9ms/step - loss: 0.5470 - accuracy: 0.7259 - val_loss: 0.6563 - val_accuracy: 0.6267\n",
            "Epoch 14/50\n",
            "54/54 [==============================] - 1s 10ms/step - loss: 0.5278 - accuracy: 0.7441 - val_loss: 0.6679 - val_accuracy: 0.6000\n",
            "Epoch 15/50\n",
            "54/54 [==============================] - 1s 10ms/step - loss: 0.5487 - accuracy: 0.7188 - val_loss: 0.6995 - val_accuracy: 0.5800\n",
            "Epoch 16/50\n",
            "54/54 [==============================] - 1s 10ms/step - loss: 0.5282 - accuracy: 0.7418 - val_loss: 0.6657 - val_accuracy: 0.6000\n",
            "Epoch 17/50\n",
            "54/54 [==============================] - 1s 10ms/step - loss: 0.5101 - accuracy: 0.7665 - val_loss: 0.6625 - val_accuracy: 0.5867\n",
            "Epoch 18/50\n",
            "54/54 [==============================] - 1s 10ms/step - loss: 0.4920 - accuracy: 0.7888 - val_loss: 0.7075 - val_accuracy: 0.6033\n",
            "Epoch 19/50\n",
            "54/54 [==============================] - 1s 11ms/step - loss: 0.4857 - accuracy: 0.7771 - val_loss: 0.6688 - val_accuracy: 0.5900\n",
            "Epoch 20/50\n",
            "54/54 [==============================] - 1s 10ms/step - loss: 0.4864 - accuracy: 0.7818 - val_loss: 0.6687 - val_accuracy: 0.6067\n",
            "Epoch 21/50\n",
            "54/54 [==============================] - 1s 10ms/step - loss: 0.4733 - accuracy: 0.7776 - val_loss: 0.6621 - val_accuracy: 0.6333\n",
            "Epoch 22/50\n",
            "54/54 [==============================] - 1s 10ms/step - loss: 0.4576 - accuracy: 0.7947 - val_loss: 0.6785 - val_accuracy: 0.6067\n",
            "Epoch 23/50\n",
            "54/54 [==============================] - 1s 10ms/step - loss: 0.4428 - accuracy: 0.8200 - val_loss: 0.6653 - val_accuracy: 0.6100\n",
            "Epoch 24/50\n",
            "54/54 [==============================] - 1s 10ms/step - loss: 0.4629 - accuracy: 0.7929 - val_loss: 0.7484 - val_accuracy: 0.5867\n",
            "Epoch 25/50\n",
            "54/54 [==============================] - 1s 10ms/step - loss: 0.4314 - accuracy: 0.8265 - val_loss: 0.7163 - val_accuracy: 0.5967\n",
            "Epoch 26/50\n",
            "54/54 [==============================] - 1s 10ms/step - loss: 0.4330 - accuracy: 0.8118 - val_loss: 0.6719 - val_accuracy: 0.5900\n",
            "Epoch 27/50\n",
            "54/54 [==============================] - 1s 10ms/step - loss: 0.4073 - accuracy: 0.8471 - val_loss: 0.6693 - val_accuracy: 0.6300\n",
            "Epoch 28/50\n",
            "54/54 [==============================] - 1s 10ms/step - loss: 0.3952 - accuracy: 0.8600 - val_loss: 0.7773 - val_accuracy: 0.5900\n",
            "Epoch 29/50\n",
            "54/54 [==============================] - 1s 10ms/step - loss: 0.3942 - accuracy: 0.8529 - val_loss: 0.7926 - val_accuracy: 0.5700\n",
            "Epoch 30/50\n",
            "54/54 [==============================] - 1s 10ms/step - loss: 0.3966 - accuracy: 0.8412 - val_loss: 0.6765 - val_accuracy: 0.5933\n",
            "Epoch 31/50\n",
            "54/54 [==============================] - 1s 13ms/step - loss: 0.3755 - accuracy: 0.8724 - val_loss: 0.7199 - val_accuracy: 0.6000\n",
            "Epoch 32/50\n",
            "54/54 [==============================] - 1s 13ms/step - loss: 0.3594 - accuracy: 0.8788 - val_loss: 0.6868 - val_accuracy: 0.6233\n",
            "Epoch 33/50\n",
            "54/54 [==============================] - 1s 15ms/step - loss: 0.3538 - accuracy: 0.8747 - val_loss: 0.6961 - val_accuracy: 0.5833\n",
            "Epoch 34/50\n",
            "54/54 [==============================] - 1s 10ms/step - loss: 0.3513 - accuracy: 0.8771 - val_loss: 0.7835 - val_accuracy: 0.6033\n",
            "Epoch 35/50\n",
            "54/54 [==============================] - 1s 10ms/step - loss: 0.3514 - accuracy: 0.8759 - val_loss: 0.7062 - val_accuracy: 0.6000\n",
            "Epoch 36/50\n",
            "54/54 [==============================] - 1s 10ms/step - loss: 0.3289 - accuracy: 0.9000 - val_loss: 0.6840 - val_accuracy: 0.6167\n",
            "Epoch 37/50\n",
            "54/54 [==============================] - 1s 10ms/step - loss: 0.3265 - accuracy: 0.9006 - val_loss: 0.7039 - val_accuracy: 0.6200\n",
            "Epoch 38/50\n",
            "54/54 [==============================] - 1s 10ms/step - loss: 0.3273 - accuracy: 0.8947 - val_loss: 0.6973 - val_accuracy: 0.6067\n",
            "Epoch 39/50\n",
            "54/54 [==============================] - 1s 10ms/step - loss: 0.3107 - accuracy: 0.8982 - val_loss: 0.7105 - val_accuracy: 0.6000\n",
            "Epoch 40/50\n",
            "54/54 [==============================] - 1s 10ms/step - loss: 0.3172 - accuracy: 0.8976 - val_loss: 0.7029 - val_accuracy: 0.6133\n",
            "Epoch 41/50\n",
            "54/54 [==============================] - 1s 10ms/step - loss: 0.2996 - accuracy: 0.9000 - val_loss: 0.7031 - val_accuracy: 0.5933\n",
            "Epoch 42/50\n",
            "54/54 [==============================] - 1s 10ms/step - loss: 0.2768 - accuracy: 0.9394 - val_loss: 0.7164 - val_accuracy: 0.5967\n",
            "Epoch 43/50\n",
            "54/54 [==============================] - 1s 10ms/step - loss: 0.2844 - accuracy: 0.9124 - val_loss: 0.7019 - val_accuracy: 0.6133\n",
            "Epoch 44/50\n",
            "54/54 [==============================] - 1s 10ms/step - loss: 0.2695 - accuracy: 0.9335 - val_loss: 0.6957 - val_accuracy: 0.5900\n",
            "Epoch 45/50\n",
            "54/54 [==============================] - 1s 10ms/step - loss: 0.2927 - accuracy: 0.9059 - val_loss: 0.6970 - val_accuracy: 0.6000\n",
            "Epoch 46/50\n",
            "54/54 [==============================] - 1s 10ms/step - loss: 0.2607 - accuracy: 0.9441 - val_loss: 0.7803 - val_accuracy: 0.6100\n",
            "Epoch 47/50\n",
            "54/54 [==============================] - 1s 10ms/step - loss: 0.2663 - accuracy: 0.9241 - val_loss: 0.7391 - val_accuracy: 0.6133\n",
            "Epoch 48/50\n",
            "54/54 [==============================] - 1s 10ms/step - loss: 0.2519 - accuracy: 0.9400 - val_loss: 0.8191 - val_accuracy: 0.6100\n",
            "Epoch 49/50\n",
            "54/54 [==============================] - 1s 10ms/step - loss: 0.2638 - accuracy: 0.9224 - val_loss: 0.7601 - val_accuracy: 0.6067\n",
            "Epoch 50/50\n",
            "54/54 [==============================] - 1s 10ms/step - loss: 0.2459 - accuracy: 0.9371 - val_loss: 0.7189 - val_accuracy: 0.6300\n"
          ]
        }
      ]
    },
    {
      "cell_type": "markdown",
      "source": [
        "For learning rate 0.00001, loss and accuracy is giving comparativley better result than learning rate 0, and learning rate 300. Here, in first epoch, loss is the most maximum value. Then loss decrease gradually all the way to epoch 50. And, accuracy in first epoch is lowest and it increases all the way to epoch 50."
      ],
      "metadata": {
        "id": "7zxodtP8tkvN"
      }
    },
    {
      "cell_type": "markdown",
      "source": [
        "***Question 4***"
      ],
      "metadata": {
        "id": "6JKJZfT2ubqE"
      }
    },
    {
      "cell_type": "code",
      "source": [
        "model_cnn = tf.keras.models.Sequential([\n",
        "    tf.keras.layers.Conv2D(32, (3, 3), activation = 'relu', input_shape = (128, 128, 3)),\n",
        "    tf.keras.layers.MaxPooling2D((2, 2)),\n",
        "    tf.keras.layers.Conv2D(64, (3, 3), activation = 'relu'),\n",
        "    tf.keras.layers.MaxPooling2D((2, 2)),\n",
        "    tf.keras.layers.Conv2D(64, (3, 3,), activation = 'relu'),\n",
        "    tf.keras.layers.MaxPooling2D((2, 2)),\n",
        "    tf.keras.layers.Conv2D(128, (3, 3), activation = 'relu'),\n",
        "    tf.keras.layers.MaxPooling2D((2, 2)),\n",
        "    tf.keras.layers.Conv2D(256, (3, 3), activation = 'relu'),\n",
        "    tf.keras.layers.MaxPooling2D((2, 2,)),\n",
        "    tf.keras.layers.Flatten(),\n",
        "    tf.keras.layers.Dense(64, activation = 'relu'),\n",
        "    tf.keras.layers.Dense(2, activation = 'softmax')\n",
        "])\n",
        "\n",
        "\n",
        "opt_cnn = tf.keras.optimizers.Adam(learning_rate = 0.00001)\n",
        "model_cnn.compile (optimizer = opt_cnn, loss = 'sparse_categorical_crossentropy', metrics = ['accuracy'])\n",
        "eval_cnn = model_cnn.fit(train_images, train_labels, epochs = 50, validation_split = 0.15)"
      ],
      "metadata": {
        "colab": {
          "base_uri": "https://localhost:8080/"
        },
        "id": "4BVUSP-lZ2dz",
        "outputId": "f7f58f2f-cca2-4077-d741-0501bc3afe29"
      },
      "execution_count": 14,
      "outputs": [
        {
          "output_type": "stream",
          "name": "stdout",
          "text": [
            "Epoch 1/50\n",
            "54/54 [==============================] - 7s 38ms/step - loss: 0.6937 - accuracy: 0.4924 - val_loss: 0.6917 - val_accuracy: 0.5667\n",
            "Epoch 2/50\n",
            "54/54 [==============================] - 1s 18ms/step - loss: 0.6909 - accuracy: 0.5541 - val_loss: 0.6907 - val_accuracy: 0.5767\n",
            "Epoch 3/50\n",
            "54/54 [==============================] - 1s 18ms/step - loss: 0.6893 - accuracy: 0.5800 - val_loss: 0.6891 - val_accuracy: 0.5700\n",
            "Epoch 4/50\n",
            "54/54 [==============================] - 1s 19ms/step - loss: 0.6873 - accuracy: 0.5865 - val_loss: 0.6885 - val_accuracy: 0.5700\n",
            "Epoch 5/50\n",
            "54/54 [==============================] - 1s 18ms/step - loss: 0.6856 - accuracy: 0.5900 - val_loss: 0.6881 - val_accuracy: 0.5700\n",
            "Epoch 6/50\n",
            "54/54 [==============================] - 1s 18ms/step - loss: 0.6836 - accuracy: 0.6212 - val_loss: 0.6867 - val_accuracy: 0.5800\n",
            "Epoch 7/50\n",
            "54/54 [==============================] - 1s 21ms/step - loss: 0.6811 - accuracy: 0.6182 - val_loss: 0.6848 - val_accuracy: 0.6000\n",
            "Epoch 8/50\n",
            "54/54 [==============================] - 1s 23ms/step - loss: 0.6783 - accuracy: 0.6459 - val_loss: 0.6821 - val_accuracy: 0.5867\n",
            "Epoch 9/50\n",
            "54/54 [==============================] - 1s 18ms/step - loss: 0.6751 - accuracy: 0.6565 - val_loss: 0.6804 - val_accuracy: 0.5933\n",
            "Epoch 10/50\n",
            "54/54 [==============================] - 1s 20ms/step - loss: 0.6735 - accuracy: 0.6229 - val_loss: 0.6788 - val_accuracy: 0.6067\n",
            "Epoch 11/50\n",
            "54/54 [==============================] - 1s 20ms/step - loss: 0.6694 - accuracy: 0.6541 - val_loss: 0.6765 - val_accuracy: 0.6000\n",
            "Epoch 12/50\n",
            "54/54 [==============================] - 1s 18ms/step - loss: 0.6654 - accuracy: 0.6612 - val_loss: 0.6764 - val_accuracy: 0.6100\n",
            "Epoch 13/50\n",
            "54/54 [==============================] - 1s 20ms/step - loss: 0.6615 - accuracy: 0.6453 - val_loss: 0.6761 - val_accuracy: 0.5933\n",
            "Epoch 14/50\n",
            "54/54 [==============================] - 1s 20ms/step - loss: 0.6566 - accuracy: 0.6624 - val_loss: 0.6712 - val_accuracy: 0.6033\n",
            "Epoch 15/50\n",
            "54/54 [==============================] - 1s 20ms/step - loss: 0.6511 - accuracy: 0.6624 - val_loss: 0.6802 - val_accuracy: 0.5667\n",
            "Epoch 16/50\n",
            "54/54 [==============================] - 1s 18ms/step - loss: 0.6516 - accuracy: 0.6553 - val_loss: 0.6666 - val_accuracy: 0.5933\n",
            "Epoch 17/50\n",
            "54/54 [==============================] - 1s 18ms/step - loss: 0.6440 - accuracy: 0.6600 - val_loss: 0.6647 - val_accuracy: 0.6167\n",
            "Epoch 18/50\n",
            "54/54 [==============================] - 1s 20ms/step - loss: 0.6408 - accuracy: 0.6718 - val_loss: 0.6647 - val_accuracy: 0.5967\n",
            "Epoch 19/50\n",
            "54/54 [==============================] - 1s 22ms/step - loss: 0.6368 - accuracy: 0.6735 - val_loss: 0.6624 - val_accuracy: 0.6067\n",
            "Epoch 20/50\n",
            "54/54 [==============================] - 1s 22ms/step - loss: 0.6334 - accuracy: 0.6724 - val_loss: 0.6629 - val_accuracy: 0.6033\n",
            "Epoch 21/50\n",
            "54/54 [==============================] - 1s 19ms/step - loss: 0.6298 - accuracy: 0.6759 - val_loss: 0.6713 - val_accuracy: 0.6033\n",
            "Epoch 22/50\n",
            "54/54 [==============================] - 1s 18ms/step - loss: 0.6251 - accuracy: 0.6706 - val_loss: 0.6589 - val_accuracy: 0.6200\n",
            "Epoch 23/50\n",
            "54/54 [==============================] - 1s 20ms/step - loss: 0.6218 - accuracy: 0.6735 - val_loss: 0.6678 - val_accuracy: 0.6133\n",
            "Epoch 24/50\n",
            "54/54 [==============================] - 1s 20ms/step - loss: 0.6178 - accuracy: 0.6806 - val_loss: 0.6613 - val_accuracy: 0.6200\n",
            "Epoch 25/50\n",
            "54/54 [==============================] - 1s 20ms/step - loss: 0.6155 - accuracy: 0.6806 - val_loss: 0.6790 - val_accuracy: 0.5933\n",
            "Epoch 26/50\n",
            "54/54 [==============================] - 1s 20ms/step - loss: 0.6176 - accuracy: 0.6694 - val_loss: 0.6722 - val_accuracy: 0.6067\n",
            "Epoch 27/50\n",
            "54/54 [==============================] - 1s 20ms/step - loss: 0.6100 - accuracy: 0.6835 - val_loss: 0.6613 - val_accuracy: 0.6267\n",
            "Epoch 28/50\n",
            "54/54 [==============================] - 1s 18ms/step - loss: 0.6058 - accuracy: 0.6918 - val_loss: 0.6550 - val_accuracy: 0.6200\n",
            "Epoch 29/50\n",
            "54/54 [==============================] - 1s 19ms/step - loss: 0.6024 - accuracy: 0.6906 - val_loss: 0.6666 - val_accuracy: 0.6333\n",
            "Epoch 30/50\n",
            "54/54 [==============================] - 1s 22ms/step - loss: 0.6028 - accuracy: 0.6906 - val_loss: 0.6540 - val_accuracy: 0.6200\n",
            "Epoch 31/50\n",
            "54/54 [==============================] - 1s 22ms/step - loss: 0.5986 - accuracy: 0.6888 - val_loss: 0.6536 - val_accuracy: 0.6233\n",
            "Epoch 32/50\n",
            "54/54 [==============================] - 1s 18ms/step - loss: 0.5953 - accuracy: 0.7041 - val_loss: 0.6534 - val_accuracy: 0.6333\n",
            "Epoch 33/50\n",
            "54/54 [==============================] - 1s 20ms/step - loss: 0.5949 - accuracy: 0.6935 - val_loss: 0.6736 - val_accuracy: 0.6133\n",
            "Epoch 34/50\n",
            "54/54 [==============================] - 1s 19ms/step - loss: 0.5876 - accuracy: 0.7018 - val_loss: 0.6593 - val_accuracy: 0.6300\n",
            "Epoch 35/50\n",
            "54/54 [==============================] - 1s 18ms/step - loss: 0.5916 - accuracy: 0.6941 - val_loss: 0.6519 - val_accuracy: 0.6333\n",
            "Epoch 36/50\n",
            "54/54 [==============================] - 1s 18ms/step - loss: 0.5812 - accuracy: 0.7100 - val_loss: 0.6516 - val_accuracy: 0.6300\n",
            "Epoch 37/50\n",
            "54/54 [==============================] - 1s 20ms/step - loss: 0.5801 - accuracy: 0.7112 - val_loss: 0.6757 - val_accuracy: 0.6200\n",
            "Epoch 38/50\n",
            "54/54 [==============================] - 1s 19ms/step - loss: 0.5956 - accuracy: 0.6759 - val_loss: 0.6524 - val_accuracy: 0.6267\n",
            "Epoch 39/50\n",
            "54/54 [==============================] - 1s 18ms/step - loss: 0.5752 - accuracy: 0.7194 - val_loss: 0.6540 - val_accuracy: 0.6400\n",
            "Epoch 40/50\n",
            "54/54 [==============================] - 1s 20ms/step - loss: 0.5767 - accuracy: 0.7129 - val_loss: 0.6503 - val_accuracy: 0.6400\n",
            "Epoch 41/50\n",
            "54/54 [==============================] - 1s 21ms/step - loss: 0.5678 - accuracy: 0.7082 - val_loss: 0.6577 - val_accuracy: 0.6233\n",
            "Epoch 42/50\n",
            "54/54 [==============================] - 1s 22ms/step - loss: 0.5703 - accuracy: 0.7182 - val_loss: 0.6545 - val_accuracy: 0.6267\n",
            "Epoch 43/50\n",
            "54/54 [==============================] - 1s 19ms/step - loss: 0.5647 - accuracy: 0.7229 - val_loss: 0.6561 - val_accuracy: 0.6333\n",
            "Epoch 44/50\n",
            "54/54 [==============================] - 1s 20ms/step - loss: 0.5631 - accuracy: 0.7241 - val_loss: 0.6514 - val_accuracy: 0.6233\n",
            "Epoch 45/50\n",
            "54/54 [==============================] - 1s 18ms/step - loss: 0.5580 - accuracy: 0.7306 - val_loss: 0.6552 - val_accuracy: 0.6333\n",
            "Epoch 46/50\n",
            "54/54 [==============================] - 1s 20ms/step - loss: 0.5588 - accuracy: 0.7247 - val_loss: 0.6493 - val_accuracy: 0.6400\n",
            "Epoch 47/50\n",
            "54/54 [==============================] - 1s 18ms/step - loss: 0.5542 - accuracy: 0.7394 - val_loss: 0.6537 - val_accuracy: 0.6400\n",
            "Epoch 48/50\n",
            "54/54 [==============================] - 1s 19ms/step - loss: 0.5493 - accuracy: 0.7376 - val_loss: 0.6663 - val_accuracy: 0.6367\n",
            "Epoch 49/50\n",
            "54/54 [==============================] - 1s 19ms/step - loss: 0.5505 - accuracy: 0.7371 - val_loss: 0.6772 - val_accuracy: 0.6200\n",
            "Epoch 50/50\n",
            "54/54 [==============================] - 1s 19ms/step - loss: 0.5593 - accuracy: 0.7194 - val_loss: 0.6656 - val_accuracy: 0.6333\n"
          ]
        }
      ]
    },
    {
      "cell_type": "code",
      "source": [
        "test_loss_fc, test_accuracy_fc = model_cnn.evaluate(test_images, test_labels)\n",
        "print('Accuracy of the third fully connected network on the test dataset:', test_accuracy_fc)"
      ],
      "metadata": {
        "colab": {
          "base_uri": "https://localhost:8080/"
        },
        "id": "yE_7DQ5mnsGy",
        "outputId": "d32a5630-6e29-4bdb-ee97-741926615944"
      },
      "execution_count": 15,
      "outputs": [
        {
          "output_type": "stream",
          "name": "stdout",
          "text": [
            "32/32 [==============================] - 1s 16ms/step - loss: 0.6173 - accuracy: 0.6580\n",
            "Accuracy of the third fully connected network on the test dataset: 0.6579999923706055\n"
          ]
        }
      ]
    },
    {
      "cell_type": "code",
      "source": [
        "test_loss_cnn, test_accuracy_cnn = model_cnn.evaluate(test_images, test_labels)\n",
        "print('Accuracy of the convolutional network on the test dataset:', test_accuracy_cnn)\n"
      ],
      "metadata": {
        "colab": {
          "base_uri": "https://localhost:8080/"
        },
        "id": "MfhPsKZ7pWtM",
        "outputId": "31288c4f-bd03-437e-f80f-2222b4b6443d"
      },
      "execution_count": 16,
      "outputs": [
        {
          "output_type": "stream",
          "name": "stdout",
          "text": [
            "32/32 [==============================] - 0s 8ms/step - loss: 0.6173 - accuracy: 0.6580\n",
            "Accuracy of the convolutional network on the test dataset: 0.6579999923706055\n"
          ]
        }
      ]
    },
    {
      "cell_type": "markdown",
      "source": [
        "***Question 5***"
      ],
      "metadata": {
        "id": "py2Ypx6Y1ZrX"
      }
    },
    {
      "cell_type": "code",
      "source": [
        "augmented_cnn_model = tf.keras.Sequential([\n",
        "    tf.keras.layers.experimental.preprocessing.RandomFlip('horizontal_and_vertical', input_shape = (128, 128, 3)),\n",
        "    tf.keras.layers.Conv2D(32, (3, 3), activation = 'relu'),\n",
        "    tf.keras.layers.MaxPooling2D((2, 2)),\n",
        "    tf.keras.layers.Conv2D(64, (3, 3), activation = 'relu'),\n",
        "    tf.keras.layers.MaxPooling2D((2, 2)),\n",
        "    tf.keras.layers.Conv2D (64, (3, 3), activation = 'relu'),\n",
        "    tf.keras.layers.MaxPooling2D((2, 2)),\n",
        "    tf.keras.layers.Conv2D (128, (3, 3), activation = 'relu'),\n",
        "    tf.keras.layers.MaxPooling2D((2, 2)),\n",
        "    tf.keras.layers.Conv2D (256, (3, 3), activation = 'relu'),\n",
        "    tf.keras.layers.MaxPooling2D((2, 2)),\n",
        "    tf.keras.layers.Flatten(),\n",
        "    tf.keras.layers.Dense(64, activation = 'relu'),\n",
        "    tf.keras.layers.Dense(2, activation = 'softmax')\n",
        "\n",
        "\n",
        "])\n",
        "\n",
        "augmented_cnn_model.compile(optimizer = tf.keras.optimizers.Adam(learning_rate = 0.00001),\n",
        "                            loss = 'sparse_categorical_crossentropy',\n",
        "                            metrics = ['accuracy'])\n",
        "augmented_cnn_history = augmented_cnn_model.fit(train_images, train_labels, epochs = 50, validation_split = 0.15)\n",
        "\n",
        "test_loss_augmented_cnn, test_accuracy_augmented_cnn = augmented_cnn_model.evaluate(test_images, test_labels)\n",
        "\n",
        "print('Accuracy of augmented model score agains test data set:', test_accuracy_augmented_cnn)"
      ],
      "metadata": {
        "colab": {
          "base_uri": "https://localhost:8080/"
        },
        "id": "UGwGZ97zqqxU",
        "outputId": "489bb988-31d2-45a3-ba3c-5691ef474eda"
      },
      "execution_count": 35,
      "outputs": [
        {
          "output_type": "stream",
          "name": "stdout",
          "text": [
            "Epoch 1/50\n",
            "54/54 [==============================] - 4s 31ms/step - loss: 0.6928 - accuracy: 0.4941 - val_loss: 0.6928 - val_accuracy: 0.4867\n",
            "Epoch 2/50\n",
            "54/54 [==============================] - 1s 24ms/step - loss: 0.6917 - accuracy: 0.5035 - val_loss: 0.6924 - val_accuracy: 0.4867\n",
            "Epoch 3/50\n",
            "54/54 [==============================] - 1s 21ms/step - loss: 0.6908 - accuracy: 0.5029 - val_loss: 0.6920 - val_accuracy: 0.4867\n",
            "Epoch 4/50\n",
            "54/54 [==============================] - 1s 19ms/step - loss: 0.6900 - accuracy: 0.5024 - val_loss: 0.6914 - val_accuracy: 0.4900\n",
            "Epoch 5/50\n",
            "54/54 [==============================] - 1s 21ms/step - loss: 0.6886 - accuracy: 0.5200 - val_loss: 0.6912 - val_accuracy: 0.4867\n",
            "Epoch 6/50\n",
            "54/54 [==============================] - 1s 19ms/step - loss: 0.6872 - accuracy: 0.5082 - val_loss: 0.6909 - val_accuracy: 0.5000\n",
            "Epoch 7/50\n",
            "54/54 [==============================] - 1s 19ms/step - loss: 0.6860 - accuracy: 0.5329 - val_loss: 0.6903 - val_accuracy: 0.4900\n",
            "Epoch 8/50\n",
            "54/54 [==============================] - 1s 19ms/step - loss: 0.6850 - accuracy: 0.5871 - val_loss: 0.6905 - val_accuracy: 0.4933\n",
            "Epoch 9/50\n",
            "54/54 [==============================] - 1s 20ms/step - loss: 0.6831 - accuracy: 0.5535 - val_loss: 0.6886 - val_accuracy: 0.5267\n",
            "Epoch 10/50\n",
            "54/54 [==============================] - 1s 19ms/step - loss: 0.6801 - accuracy: 0.5729 - val_loss: 0.6876 - val_accuracy: 0.5600\n",
            "Epoch 11/50\n",
            "54/54 [==============================] - 1s 21ms/step - loss: 0.6768 - accuracy: 0.5953 - val_loss: 0.6866 - val_accuracy: 0.5700\n",
            "Epoch 12/50\n",
            "54/54 [==============================] - 1s 22ms/step - loss: 0.6729 - accuracy: 0.6188 - val_loss: 0.6859 - val_accuracy: 0.5700\n",
            "Epoch 13/50\n",
            "54/54 [==============================] - 1s 24ms/step - loss: 0.6705 - accuracy: 0.5994 - val_loss: 0.6846 - val_accuracy: 0.5533\n",
            "Epoch 14/50\n",
            "54/54 [==============================] - 1s 21ms/step - loss: 0.6679 - accuracy: 0.6035 - val_loss: 0.6862 - val_accuracy: 0.5633\n",
            "Epoch 15/50\n",
            "54/54 [==============================] - 1s 19ms/step - loss: 0.6652 - accuracy: 0.6141 - val_loss: 0.6827 - val_accuracy: 0.5567\n",
            "Epoch 16/50\n",
            "54/54 [==============================] - 1s 19ms/step - loss: 0.6610 - accuracy: 0.6241 - val_loss: 0.6835 - val_accuracy: 0.5667\n",
            "Epoch 17/50\n",
            "54/54 [==============================] - 1s 19ms/step - loss: 0.6561 - accuracy: 0.6247 - val_loss: 0.6834 - val_accuracy: 0.5867\n",
            "Epoch 18/50\n",
            "54/54 [==============================] - 1s 21ms/step - loss: 0.6547 - accuracy: 0.6276 - val_loss: 0.6822 - val_accuracy: 0.5600\n",
            "Epoch 19/50\n",
            "54/54 [==============================] - 1s 21ms/step - loss: 0.6506 - accuracy: 0.6276 - val_loss: 0.6906 - val_accuracy: 0.5500\n",
            "Epoch 20/50\n",
            "54/54 [==============================] - 1s 20ms/step - loss: 0.6518 - accuracy: 0.6306 - val_loss: 0.6815 - val_accuracy: 0.5900\n",
            "Epoch 21/50\n",
            "54/54 [==============================] - 1s 21ms/step - loss: 0.6452 - accuracy: 0.6318 - val_loss: 0.6901 - val_accuracy: 0.5533\n",
            "Epoch 22/50\n",
            "54/54 [==============================] - 1s 20ms/step - loss: 0.6486 - accuracy: 0.6353 - val_loss: 0.6792 - val_accuracy: 0.5733\n",
            "Epoch 23/50\n",
            "54/54 [==============================] - 1s 22ms/step - loss: 0.6413 - accuracy: 0.6459 - val_loss: 0.6791 - val_accuracy: 0.5800\n",
            "Epoch 24/50\n",
            "54/54 [==============================] - 1s 24ms/step - loss: 0.6415 - accuracy: 0.6318 - val_loss: 0.6797 - val_accuracy: 0.5733\n",
            "Epoch 25/50\n",
            "54/54 [==============================] - 1s 19ms/step - loss: 0.6396 - accuracy: 0.6353 - val_loss: 0.6775 - val_accuracy: 0.5733\n",
            "Epoch 26/50\n",
            "54/54 [==============================] - 1s 20ms/step - loss: 0.6377 - accuracy: 0.6482 - val_loss: 0.6774 - val_accuracy: 0.5767\n",
            "Epoch 27/50\n",
            "54/54 [==============================] - 1s 19ms/step - loss: 0.6331 - accuracy: 0.6518 - val_loss: 0.6787 - val_accuracy: 0.5833\n",
            "Epoch 28/50\n",
            "54/54 [==============================] - 1s 21ms/step - loss: 0.6331 - accuracy: 0.6441 - val_loss: 0.6804 - val_accuracy: 0.5900\n",
            "Epoch 29/50\n",
            "54/54 [==============================] - 1s 21ms/step - loss: 0.6349 - accuracy: 0.6447 - val_loss: 0.6756 - val_accuracy: 0.5900\n",
            "Epoch 30/50\n",
            "54/54 [==============================] - 1s 19ms/step - loss: 0.6303 - accuracy: 0.6524 - val_loss: 0.6742 - val_accuracy: 0.5967\n",
            "Epoch 31/50\n",
            "54/54 [==============================] - 1s 20ms/step - loss: 0.6270 - accuracy: 0.6600 - val_loss: 0.6740 - val_accuracy: 0.5900\n",
            "Epoch 32/50\n",
            "54/54 [==============================] - 1s 20ms/step - loss: 0.6273 - accuracy: 0.6529 - val_loss: 0.6753 - val_accuracy: 0.6033\n",
            "Epoch 33/50\n",
            "54/54 [==============================] - 1s 21ms/step - loss: 0.6253 - accuracy: 0.6506 - val_loss: 0.6794 - val_accuracy: 0.5833\n",
            "Epoch 34/50\n",
            "54/54 [==============================] - 1s 23ms/step - loss: 0.6270 - accuracy: 0.6535 - val_loss: 0.6754 - val_accuracy: 0.6100\n",
            "Epoch 35/50\n",
            "54/54 [==============================] - 1s 23ms/step - loss: 0.6202 - accuracy: 0.6641 - val_loss: 0.6720 - val_accuracy: 0.6100\n",
            "Epoch 36/50\n",
            "54/54 [==============================] - 1s 20ms/step - loss: 0.6185 - accuracy: 0.6712 - val_loss: 0.6734 - val_accuracy: 0.5933\n",
            "Epoch 37/50\n",
            "54/54 [==============================] - 1s 19ms/step - loss: 0.6188 - accuracy: 0.6571 - val_loss: 0.6754 - val_accuracy: 0.5833\n",
            "Epoch 38/50\n",
            "54/54 [==============================] - 1s 19ms/step - loss: 0.6187 - accuracy: 0.6576 - val_loss: 0.6721 - val_accuracy: 0.6133\n",
            "Epoch 39/50\n",
            "54/54 [==============================] - 1s 21ms/step - loss: 0.6131 - accuracy: 0.6771 - val_loss: 0.6695 - val_accuracy: 0.6000\n",
            "Epoch 40/50\n",
            "54/54 [==============================] - 1s 20ms/step - loss: 0.6137 - accuracy: 0.6759 - val_loss: 0.6660 - val_accuracy: 0.6167\n",
            "Epoch 41/50\n",
            "54/54 [==============================] - 1s 21ms/step - loss: 0.6128 - accuracy: 0.6735 - val_loss: 0.6653 - val_accuracy: 0.6000\n",
            "Epoch 42/50\n",
            "54/54 [==============================] - 1s 20ms/step - loss: 0.6082 - accuracy: 0.6876 - val_loss: 0.6633 - val_accuracy: 0.6300\n",
            "Epoch 43/50\n",
            "54/54 [==============================] - 1s 19ms/step - loss: 0.6131 - accuracy: 0.6606 - val_loss: 0.6641 - val_accuracy: 0.6133\n",
            "Epoch 44/50\n",
            "54/54 [==============================] - 1s 20ms/step - loss: 0.6073 - accuracy: 0.6729 - val_loss: 0.6670 - val_accuracy: 0.6133\n",
            "Epoch 45/50\n",
            "54/54 [==============================] - 1s 22ms/step - loss: 0.6038 - accuracy: 0.6859 - val_loss: 0.6596 - val_accuracy: 0.6367\n",
            "Epoch 46/50\n",
            "54/54 [==============================] - 1s 23ms/step - loss: 0.6020 - accuracy: 0.6818 - val_loss: 0.6606 - val_accuracy: 0.6200\n",
            "Epoch 47/50\n",
            "54/54 [==============================] - 1s 21ms/step - loss: 0.6008 - accuracy: 0.6841 - val_loss: 0.6580 - val_accuracy: 0.6433\n",
            "Epoch 48/50\n",
            "54/54 [==============================] - 1s 21ms/step - loss: 0.6036 - accuracy: 0.6700 - val_loss: 0.6557 - val_accuracy: 0.6367\n",
            "Epoch 49/50\n",
            "54/54 [==============================] - 1s 20ms/step - loss: 0.5987 - accuracy: 0.6841 - val_loss: 0.6551 - val_accuracy: 0.6400\n",
            "Epoch 50/50\n",
            "54/54 [==============================] - 1s 20ms/step - loss: 0.5965 - accuracy: 0.6888 - val_loss: 0.6544 - val_accuracy: 0.6300\n",
            "32/32 [==============================] - 0s 8ms/step - loss: 0.6075 - accuracy: 0.6810\n",
            "Accuracy of augmented model score agains test data set: 0.6809999942779541\n"
          ]
        }
      ]
    },
    {
      "cell_type": "markdown",
      "source": [
        "Here, maximum loss is 0.6928 in 1st epoch and minimum loss is 0.5965 in 50th epoch and maximum accuracy is 0.6888 in 50th epoch and minimum accuracy is 0.4941 in 1st epoch. The performance of augmented cnn model is not good as in th question 3 for learning rate 0.00001."
      ],
      "metadata": {
        "id": "E9Mx94yE7ijk"
      }
    }
  ],
  "metadata": {
    "accelerator": "GPU",
    "colab": {
      "gpuType": "T4",
      "provenance": []
    },
    "kernelspec": {
      "display_name": "Python 3",
      "name": "python3"
    },
    "language_info": {
      "codemirror_mode": {
        "name": "ipython",
        "version": 3
      },
      "file_extension": ".py",
      "mimetype": "text/x-python",
      "name": "python",
      "nbconvert_exporter": "python",
      "pygments_lexer": "ipython3",
      "version": "3.11.4"
    }
  },
  "nbformat": 4,
  "nbformat_minor": 0
}